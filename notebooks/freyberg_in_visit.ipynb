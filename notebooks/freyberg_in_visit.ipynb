{
 "cells": [
  {
   "cell_type": "markdown",
   "metadata": {},
   "source": [
    "#FloPy3\n",
    "##Export binary simulated heads to external files\n",
    "Setup the environment..."
   ]
  },
  {
   "cell_type": "markdown",
   "metadata": {},
   "source": [
    "This example is modified from notebooks within the flopy repo\n",
    "https://github.com/modflowpy/flopy/tree/master/examples/Notebooks"
   ]
  },
  {
   "cell_type": "code",
   "execution_count": 1,
   "metadata": {
    "collapsed": false
   },
   "outputs": [],
   "source": [
    "%matplotlib inline\n",
    "import sys\n",
    "import os\n",
    "import platform\n",
    "import numpy as np\n",
    "import matplotlib.pyplot as plt\n",
    "\n",
    "import flopy\n",
    "\n",
    "#Set name of MODFLOW exe\n",
    "#  assumes executable is in users path statement\n",
    "version = 'mf2005'\n",
    "exe_name = 'mf2005'\n",
    "if platform.system() == 'Windows':\n",
    "    exe_name = 'mf2005.exe'\n",
    "mfexe = exe_name\n",
    "\n",
    "#Set the paths\n",
    "loadpth = os.path.join('..', 'data', 'freyberg')\n",
    "modelpth = os.path.join('data')\n",
    "\n",
    "#make sure modelpth directory exists\n",
    "if not os.path.exists(modelpth):\n",
    "    os.makedirs(modelpth)"
   ]
  },
  {
   "cell_type": "markdown",
   "metadata": {},
   "source": [
    "###Load and Run an Existing Model\n",
    "A model called the \"Freyberg Model\" is located in the loadpth folder.  In the following code block, we load that model, then change into a new workspace (modelpth) where we recreate and run the model.  For this to work properly, the MODFLOW-2005 executable (mf2005) must be in the path.  We verify that it worked correctly by checking for the presence of freyberg.hds and freyberg.cbc."
   ]
  },
  {
   "cell_type": "code",
   "execution_count": 3,
   "metadata": {
    "collapsed": false
   },
   "outputs": [
    {
     "name": "stdout",
     "output_type": "stream",
     "text": [
      "\n",
      "changing model workspace...\n",
      "   data\n",
      "warning: assuming SpatialReference units are meters\n",
      "FloPy is using the following executable to run the model: /Users/brclark/brc/WRDAPP/bin/mf2005\n",
      "\n",
      "                                  MODFLOW-2005     \n",
      "    U.S. GEOLOGICAL SURVEY MODULAR FINITE-DIFFERENCE GROUND-WATER FLOW MODEL\n",
      "                             Version 1.12.00 x/x/2015                        \n",
      "\n",
      " Using NAME file: freyberg.nam \n",
      " Run start date and time (yyyy/mm/dd hh:mm:ss): 2016/04/27  5:35:09\n",
      "\n",
      " Solving:  Stress period:     1    Time step:     1    Ground-Water Flow Eqn.\n",
      " Run end date and time (yyyy/mm/dd hh:mm:ss): 2016/04/27  5:35:09\n",
      " Elapsed run time:  0.025 Seconds\n",
      "\n",
      "  Normal termination of simulation\n",
      "Output file located: freyberg.hds\n",
      "Output file located: freyberg.cbc\n"
     ]
    }
   ],
   "source": [
    "ml = flopy.modflow.Modflow.load('freyberg.nam', model_ws=loadpth, \n",
    "                                exe_name=exe_name, version=version)\n",
    "ml.change_model_ws(new_pth=modelpth)\n",
    "ml.write_input()\n",
    "success, buff = ml.run_model()\n",
    "if not success:\n",
    "    print ('Something bad happened.')\n",
    "files = ['freyberg.hds', 'freyberg.cbc']\n",
    "for f in files:\n",
    "    if os.path.isfile(os.path.join(modelpth, f)):\n",
    "        msg = 'Output file located: {}'.format(f)\n",
    "        print (msg)\n",
    "    else:\n",
    "        errmsg = 'Error. Output file cannot be found: {}'.format(f)\n",
    "        print (errmsg)"
   ]
  },
  {
   "cell_type": "markdown",
   "metadata": {},
   "source": [
    "###Visualize heads with matplotlib"
   ]
  },
  {
   "cell_type": "code",
   "execution_count": 4,
   "metadata": {
    "collapsed": false
   },
   "outputs": [
    {
     "data": {
      "image/png": "[encoded data removed]",
      "text/plain": [
       "<matplotlib.figure.Figure at 0x10c3dc510>"
      ]
     },
     "metadata": {},
     "output_type": "display_data"
    }
   ],
   "source": [
    "fname = os.path.join(modelpth, 'freyberg.hds')\n",
    "hdobj = flopy.utils.HeadFile(fname)\n",
    "head = hdobj.get_data()\n",
    "modelmap = flopy.plot.ModelMap(model=ml)\n",
    "quadmesh = modelmap.plot_array(head, masked_values=[999.])"
   ]
  },
  {
   "cell_type": "markdown",
   "metadata": {},
   "source": [
    "###Export heads to numpy array file - which can be read by VisIt"
   ]
  },
  {
   "cell_type": "markdown",
   "metadata": {},
   "source": [
    "https://wci.llnl.gov/simulation/computer-codes/visit/"
   ]
  },
  {
   "cell_type": "code",
   "execution_count": 5,
   "metadata": {
    "collapsed": false
   },
   "outputs": [],
   "source": [
    "np.save('freyberg.npy', head)"
   ]
  },
  {
   "cell_type": "code",
   "execution_count": 6,
   "metadata": {
    "collapsed": false
   },
   "outputs": [
    {
     "name": "stdout",
     "output_type": "stream",
     "text": [
      "(40, 20, 250.0, 250.0)\n"
     ]
    }
   ],
   "source": [
    "dis = ml.dis\n",
    "print(dis.nrow, dis.ncol, dis.delr[0], dis.delc[0])"
   ]
  },
  {
   "cell_type": "code",
   "execution_count": null,
   "metadata": {
    "collapsed": true
   },
   "outputs": [],
   "source": []
  }
 ],
 "metadata": {
  "kernelspec": {
   "display_name": "Python 2",
   "language": "python",
   "name": "python2"
  },
  "language_info": {
   "codemirror_mode": {
    "name": "ipython",
    "version": 2
   },
   "file_extension": ".py",
   "mimetype": "text/x-python",
   "name": "python",
   "nbconvert_exporter": "python",
   "pygments_lexer": "ipython2",
   "version": "2.7.11"
  }
 },
 "nbformat": 4,
 "nbformat_minor": 0
}
